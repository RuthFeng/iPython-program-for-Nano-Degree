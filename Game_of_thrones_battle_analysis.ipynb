{
 "cells": [
  {
   "cell_type": "markdown",
   "metadata": {},
   "source": [
    "# 五王之战分析 - 冰与火之歌"
   ]
  },
  {
   "cell_type": "markdown",
   "metadata": {},
   "source": [
    "## 简介\n",
    "\n",
    "五王之战（War of the Five Kings）是著名严肃奇幻小说《冰与火之歌》中的著名内战。这是一场规模空前、波及七大王国的内乱。顾名思义，前后共有五人在战争中称王：乔佛里、史坦尼斯、蓝礼均声称自己是铁王座的合法继承人。除此之外，罗柏·史塔克被北境众封臣推选为北境之王，巴隆·葛雷乔伊亦再度掀起独立大旗，欲摆脱铁王座的统治，自称为铁群岛之王。\n",
    "\n"
   ]
  },
  {
   "cell_type": "markdown",
   "metadata": {},
   "source": [
    "本数据集(battles.csv)包含了五王之战期间的战争，它是所有战斗的大集合。该数据是Kaggle中[Game of Thrones](https://www.kaggle.com/mylesoneill/game-of-thrones)的一部分。\n",
    "\n",
    "数据中的变量含义解释：\n",
    "```\n",
    "name: 战争的名称，字符变量。\n",
    "year: 战争发生的年份，数值变量。\n",
    "battle_number: 本数据中的unique id，对应每一场独立的战役，数值变量。\n",
    "attacker_king: 攻击方的国王，\"/\"表示了国王的更换。例如：\"Joffrey/Tommen Baratheon\"意味着Tomen Baratheon继承了Joffrey的王位，分类变量。\n",
    "defender_king: 防守方的国王，分类变量。\n",
    "attacker_1: 攻击方将领，字符变量。\n",
    "attacker_2: 攻击方将领，字符变量。\n",
    "attacker_3: 攻击方将领，字符变量。\n",
    "attacker_4: 攻击方将领，字符变量。\n",
    "defender_1: 防守方将领，字符变量。\n",
    "defender_2: 防守方将领，字符变量。\n",
    "defender_3: 防守方将领，字符变量。\n",
    "defender_4: 防守方将领，字符变量。\n",
    "attacker_outcome: 从攻击方角度来看的战争结果，分别有：win, loss, draw，分类变量。\n",
    "battle_type: 战争的类别。pitched_battle: 双方军队在一个地点相遇并战斗，这也是最基本的战争类别；ambush: 以隐身或诡计为主要攻击手段的战争；siege: 阵地战；razing: 对未设防位置的攻击。分类变量。\n",
    "major_death: 是否有重要人物的死亡，二进制变量。\n",
    "major_capture: 是否有重要人物的被捕，二进制变量。\n",
    "attacker_size: 攻击方力量的大小，并未对骑兵、步兵等士兵种类有所区分，数值变量。\n",
    "defender_size: 防守方力量的大小，并未对骑兵、步兵等士兵种类有所区分，数值变量。\n",
    "attacker_commander: 攻击方的主要指挥官。指挥官的名字中并没有包含头衔，不同的指挥官名字用逗号隔开，字符变量。\n",
    "defender_commander: 防守方的主要指挥官。指挥官的名字中并没有包含头衔，不同的指挥官名字用逗号隔开，字符变量。\n",
    "summer: 战争是否发生于夏天，二进制变量。\n",
    "location: 战争发生的地点，字符变量。\n",
    "region: 战争发生的地域，包括：Beyond the Wall, The North, The Iron Islands, The Riverlands, The Vale of Arryn, The Westerlands, The Crownlands, The Reach, The Stormlands, Dorne，分类变量。\n",
    "note: 注释，字符变量。\n",
    "\n",
    "```"
   ]
  },
  {
   "cell_type": "markdown",
   "metadata": {},
   "source": [
    "## 提出问题\n",
    "\n",
    "**问题**：\n",
    "1. 哪一个国王发起了最多的战争?哪一个国王作为攻击方的胜利比率最大?\n",
    "2. 哪个区域发生战争次数最多?哪一个区域作为攻击方的胜利比率最大?\n",
    "3. 哪一类战争发生次数最多?哪一类战争攻击方的胜利比率最大?\n",
    "4. 夏季和其他季节中,作为攻击方的胜利比率有变化吗?\n",
    "5. 攻击方和防守方力量比和攻击方的战争结果有什么联系?\n",
    "（为了确保学习的效果，请确保你的数据分析报告中能够包含2幅可视化和1个相关性分析。）\n",
    "\n",
    "**答案**：将此文本替换为你的回答！\n",
    "\n",
    "\n",
    "在提出了问题之后，我们将开始导入数据，并对数据进行探索性分析，来回答上面提出的问题。"
   ]
  },
  {
   "cell_type": "markdown",
   "metadata": {},
   "source": [
    "## 数据评估和清理"
   ]
  },
  {
   "cell_type": "code",
   "execution_count": 1,
   "metadata": {},
   "outputs": [],
   "source": [
    "# TO DO: load pacakges\n",
    "import pandas as pd\n",
    "% matplotlib inline"
   ]
  },
  {
   "cell_type": "code",
   "execution_count": 2,
   "metadata": {},
   "outputs": [
    {
     "data": {
      "text/html": [
       "<div>\n",
       "<style scoped>\n",
       "    .dataframe tbody tr th:only-of-type {\n",
       "        vertical-align: middle;\n",
       "    }\n",
       "\n",
       "    .dataframe tbody tr th {\n",
       "        vertical-align: top;\n",
       "    }\n",
       "\n",
       "    .dataframe thead th {\n",
       "        text-align: right;\n",
       "    }\n",
       "</style>\n",
       "<table border=\"1\" class=\"dataframe\">\n",
       "  <thead>\n",
       "    <tr style=\"text-align: right;\">\n",
       "      <th></th>\n",
       "      <th>name</th>\n",
       "      <th>year</th>\n",
       "      <th>battle_number</th>\n",
       "      <th>attacker_king</th>\n",
       "      <th>defender_king</th>\n",
       "      <th>attacker_1</th>\n",
       "      <th>attacker_2</th>\n",
       "      <th>attacker_3</th>\n",
       "      <th>attacker_4</th>\n",
       "      <th>defender_1</th>\n",
       "      <th>...</th>\n",
       "      <th>major_death</th>\n",
       "      <th>major_capture</th>\n",
       "      <th>attacker_size</th>\n",
       "      <th>defender_size</th>\n",
       "      <th>attacker_commander</th>\n",
       "      <th>defender_commander</th>\n",
       "      <th>summer</th>\n",
       "      <th>location</th>\n",
       "      <th>region</th>\n",
       "      <th>note</th>\n",
       "    </tr>\n",
       "  </thead>\n",
       "  <tbody>\n",
       "    <tr>\n",
       "      <th>0</th>\n",
       "      <td>Battle of the Golden Tooth</td>\n",
       "      <td>298</td>\n",
       "      <td>1</td>\n",
       "      <td>Joffrey/Tommen Baratheon</td>\n",
       "      <td>Robb Stark</td>\n",
       "      <td>Lannister</td>\n",
       "      <td>NaN</td>\n",
       "      <td>NaN</td>\n",
       "      <td>NaN</td>\n",
       "      <td>Tully</td>\n",
       "      <td>...</td>\n",
       "      <td>1.0</td>\n",
       "      <td>0.0</td>\n",
       "      <td>15000.0</td>\n",
       "      <td>4000.0</td>\n",
       "      <td>Jaime Lannister</td>\n",
       "      <td>Clement Piper, Vance</td>\n",
       "      <td>1.0</td>\n",
       "      <td>Golden Tooth</td>\n",
       "      <td>The Westerlands</td>\n",
       "      <td>NaN</td>\n",
       "    </tr>\n",
       "    <tr>\n",
       "      <th>1</th>\n",
       "      <td>Battle at the Mummer's Ford</td>\n",
       "      <td>298</td>\n",
       "      <td>2</td>\n",
       "      <td>Joffrey/Tommen Baratheon</td>\n",
       "      <td>Robb Stark</td>\n",
       "      <td>Lannister</td>\n",
       "      <td>NaN</td>\n",
       "      <td>NaN</td>\n",
       "      <td>NaN</td>\n",
       "      <td>Baratheon</td>\n",
       "      <td>...</td>\n",
       "      <td>1.0</td>\n",
       "      <td>0.0</td>\n",
       "      <td>NaN</td>\n",
       "      <td>120.0</td>\n",
       "      <td>Gregor Clegane</td>\n",
       "      <td>Beric Dondarrion</td>\n",
       "      <td>1.0</td>\n",
       "      <td>Mummer's Ford</td>\n",
       "      <td>The Riverlands</td>\n",
       "      <td>NaN</td>\n",
       "    </tr>\n",
       "    <tr>\n",
       "      <th>2</th>\n",
       "      <td>Battle of Riverrun</td>\n",
       "      <td>298</td>\n",
       "      <td>3</td>\n",
       "      <td>Joffrey/Tommen Baratheon</td>\n",
       "      <td>Robb Stark</td>\n",
       "      <td>Lannister</td>\n",
       "      <td>NaN</td>\n",
       "      <td>NaN</td>\n",
       "      <td>NaN</td>\n",
       "      <td>Tully</td>\n",
       "      <td>...</td>\n",
       "      <td>0.0</td>\n",
       "      <td>1.0</td>\n",
       "      <td>15000.0</td>\n",
       "      <td>10000.0</td>\n",
       "      <td>Jaime Lannister, Andros Brax</td>\n",
       "      <td>Edmure Tully, Tytos Blackwood</td>\n",
       "      <td>1.0</td>\n",
       "      <td>Riverrun</td>\n",
       "      <td>The Riverlands</td>\n",
       "      <td>NaN</td>\n",
       "    </tr>\n",
       "    <tr>\n",
       "      <th>3</th>\n",
       "      <td>Battle of the Green Fork</td>\n",
       "      <td>298</td>\n",
       "      <td>4</td>\n",
       "      <td>Robb Stark</td>\n",
       "      <td>Joffrey/Tommen Baratheon</td>\n",
       "      <td>Stark</td>\n",
       "      <td>NaN</td>\n",
       "      <td>NaN</td>\n",
       "      <td>NaN</td>\n",
       "      <td>Lannister</td>\n",
       "      <td>...</td>\n",
       "      <td>1.0</td>\n",
       "      <td>1.0</td>\n",
       "      <td>18000.0</td>\n",
       "      <td>20000.0</td>\n",
       "      <td>Roose Bolton, Wylis Manderly, Medger Cerwyn, H...</td>\n",
       "      <td>Tywin Lannister, Gregor Clegane, Kevan Lannist...</td>\n",
       "      <td>1.0</td>\n",
       "      <td>Green Fork</td>\n",
       "      <td>The Riverlands</td>\n",
       "      <td>NaN</td>\n",
       "    </tr>\n",
       "    <tr>\n",
       "      <th>4</th>\n",
       "      <td>Battle of the Whispering Wood</td>\n",
       "      <td>298</td>\n",
       "      <td>5</td>\n",
       "      <td>Robb Stark</td>\n",
       "      <td>Joffrey/Tommen Baratheon</td>\n",
       "      <td>Stark</td>\n",
       "      <td>Tully</td>\n",
       "      <td>NaN</td>\n",
       "      <td>NaN</td>\n",
       "      <td>Lannister</td>\n",
       "      <td>...</td>\n",
       "      <td>1.0</td>\n",
       "      <td>1.0</td>\n",
       "      <td>1875.0</td>\n",
       "      <td>6000.0</td>\n",
       "      <td>Robb Stark, Brynden Tully</td>\n",
       "      <td>Jaime Lannister</td>\n",
       "      <td>1.0</td>\n",
       "      <td>Whispering Wood</td>\n",
       "      <td>The Riverlands</td>\n",
       "      <td>NaN</td>\n",
       "    </tr>\n",
       "  </tbody>\n",
       "</table>\n",
       "<p>5 rows × 25 columns</p>\n",
       "</div>"
      ],
      "text/plain": [
       "                            name  year  battle_number  \\\n",
       "0     Battle of the Golden Tooth   298              1   \n",
       "1    Battle at the Mummer's Ford   298              2   \n",
       "2             Battle of Riverrun   298              3   \n",
       "3       Battle of the Green Fork   298              4   \n",
       "4  Battle of the Whispering Wood   298              5   \n",
       "\n",
       "              attacker_king             defender_king attacker_1 attacker_2  \\\n",
       "0  Joffrey/Tommen Baratheon                Robb Stark  Lannister        NaN   \n",
       "1  Joffrey/Tommen Baratheon                Robb Stark  Lannister        NaN   \n",
       "2  Joffrey/Tommen Baratheon                Robb Stark  Lannister        NaN   \n",
       "3                Robb Stark  Joffrey/Tommen Baratheon      Stark        NaN   \n",
       "4                Robb Stark  Joffrey/Tommen Baratheon      Stark      Tully   \n",
       "\n",
       "  attacker_3 attacker_4 defender_1 ...  major_death  major_capture  \\\n",
       "0        NaN        NaN      Tully ...          1.0            0.0   \n",
       "1        NaN        NaN  Baratheon ...          1.0            0.0   \n",
       "2        NaN        NaN      Tully ...          0.0            1.0   \n",
       "3        NaN        NaN  Lannister ...          1.0            1.0   \n",
       "4        NaN        NaN  Lannister ...          1.0            1.0   \n",
       "\n",
       "   attacker_size defender_size  \\\n",
       "0        15000.0        4000.0   \n",
       "1            NaN         120.0   \n",
       "2        15000.0       10000.0   \n",
       "3        18000.0       20000.0   \n",
       "4         1875.0        6000.0   \n",
       "\n",
       "                                  attacker_commander  \\\n",
       "0                                    Jaime Lannister   \n",
       "1                                     Gregor Clegane   \n",
       "2                       Jaime Lannister, Andros Brax   \n",
       "3  Roose Bolton, Wylis Manderly, Medger Cerwyn, H...   \n",
       "4                          Robb Stark, Brynden Tully   \n",
       "\n",
       "                                  defender_commander  summer         location  \\\n",
       "0                               Clement Piper, Vance     1.0     Golden Tooth   \n",
       "1                                   Beric Dondarrion     1.0    Mummer's Ford   \n",
       "2                      Edmure Tully, Tytos Blackwood     1.0         Riverrun   \n",
       "3  Tywin Lannister, Gregor Clegane, Kevan Lannist...     1.0       Green Fork   \n",
       "4                                    Jaime Lannister     1.0  Whispering Wood   \n",
       "\n",
       "            region note  \n",
       "0  The Westerlands  NaN  \n",
       "1   The Riverlands  NaN  \n",
       "2   The Riverlands  NaN  \n",
       "3   The Riverlands  NaN  \n",
       "4   The Riverlands  NaN  \n",
       "\n",
       "[5 rows x 25 columns]"
      ]
     },
     "execution_count": 2,
     "metadata": {},
     "output_type": "execute_result"
    }
   ],
   "source": [
    "# TO DO: load the dataset\n",
    "df_base=pd.read_csv('battles.csv')\n",
    "df_base.head()"
   ]
  },
  {
   "cell_type": "code",
   "execution_count": 3,
   "metadata": {},
   "outputs": [
    {
     "data": {
      "text/html": [
       "<div>\n",
       "<style scoped>\n",
       "    .dataframe tbody tr th:only-of-type {\n",
       "        vertical-align: middle;\n",
       "    }\n",
       "\n",
       "    .dataframe tbody tr th {\n",
       "        vertical-align: top;\n",
       "    }\n",
       "\n",
       "    .dataframe thead th {\n",
       "        text-align: right;\n",
       "    }\n",
       "</style>\n",
       "<table border=\"1\" class=\"dataframe\">\n",
       "  <thead>\n",
       "    <tr style=\"text-align: right;\">\n",
       "      <th></th>\n",
       "      <th>name</th>\n",
       "      <th>year</th>\n",
       "      <th>battle_number</th>\n",
       "      <th>attacker_king</th>\n",
       "      <th>defender_king</th>\n",
       "      <th>attacker_1</th>\n",
       "      <th>attacker_2</th>\n",
       "      <th>attacker_3</th>\n",
       "      <th>attacker_4</th>\n",
       "      <th>defender_1</th>\n",
       "      <th>...</th>\n",
       "      <th>major_death</th>\n",
       "      <th>major_capture</th>\n",
       "      <th>attacker_size</th>\n",
       "      <th>defender_size</th>\n",
       "      <th>attacker_commander</th>\n",
       "      <th>defender_commander</th>\n",
       "      <th>summer</th>\n",
       "      <th>location</th>\n",
       "      <th>region</th>\n",
       "      <th>note</th>\n",
       "    </tr>\n",
       "  </thead>\n",
       "  <tbody>\n",
       "    <tr>\n",
       "      <th>33</th>\n",
       "      <td>Second Seige of Storm's End</td>\n",
       "      <td>300</td>\n",
       "      <td>34</td>\n",
       "      <td>Joffrey/Tommen Baratheon</td>\n",
       "      <td>Stannis Baratheon</td>\n",
       "      <td>Baratheon</td>\n",
       "      <td>NaN</td>\n",
       "      <td>NaN</td>\n",
       "      <td>NaN</td>\n",
       "      <td>Baratheon</td>\n",
       "      <td>...</td>\n",
       "      <td>0.0</td>\n",
       "      <td>0.0</td>\n",
       "      <td>NaN</td>\n",
       "      <td>200.0</td>\n",
       "      <td>Mace Tyrell, Mathis Rowan</td>\n",
       "      <td>Gilbert Farring</td>\n",
       "      <td>0.0</td>\n",
       "      <td>Storm's End</td>\n",
       "      <td>The Stormlands</td>\n",
       "      <td>NaN</td>\n",
       "    </tr>\n",
       "    <tr>\n",
       "      <th>34</th>\n",
       "      <td>Siege of Dragonstone</td>\n",
       "      <td>300</td>\n",
       "      <td>35</td>\n",
       "      <td>Joffrey/Tommen Baratheon</td>\n",
       "      <td>Stannis Baratheon</td>\n",
       "      <td>Baratheon</td>\n",
       "      <td>NaN</td>\n",
       "      <td>NaN</td>\n",
       "      <td>NaN</td>\n",
       "      <td>Baratheon</td>\n",
       "      <td>...</td>\n",
       "      <td>0.0</td>\n",
       "      <td>0.0</td>\n",
       "      <td>2000.0</td>\n",
       "      <td>NaN</td>\n",
       "      <td>Loras Tyrell, Raxter Redwyne</td>\n",
       "      <td>Rolland Storm</td>\n",
       "      <td>0.0</td>\n",
       "      <td>Dragonstone</td>\n",
       "      <td>The Stormlands</td>\n",
       "      <td>NaN</td>\n",
       "    </tr>\n",
       "    <tr>\n",
       "      <th>35</th>\n",
       "      <td>Siege of Riverrun</td>\n",
       "      <td>300</td>\n",
       "      <td>36</td>\n",
       "      <td>Joffrey/Tommen Baratheon</td>\n",
       "      <td>Robb Stark</td>\n",
       "      <td>Lannister</td>\n",
       "      <td>Frey</td>\n",
       "      <td>NaN</td>\n",
       "      <td>NaN</td>\n",
       "      <td>Tully</td>\n",
       "      <td>...</td>\n",
       "      <td>0.0</td>\n",
       "      <td>0.0</td>\n",
       "      <td>3000.0</td>\n",
       "      <td>NaN</td>\n",
       "      <td>Daven Lannister, Ryman Fey, Jaime Lannister</td>\n",
       "      <td>Brynden Tully</td>\n",
       "      <td>0.0</td>\n",
       "      <td>Riverrun</td>\n",
       "      <td>The Riverlands</td>\n",
       "      <td>NaN</td>\n",
       "    </tr>\n",
       "    <tr>\n",
       "      <th>36</th>\n",
       "      <td>Siege of Raventree</td>\n",
       "      <td>300</td>\n",
       "      <td>37</td>\n",
       "      <td>Joffrey/Tommen Baratheon</td>\n",
       "      <td>Robb Stark</td>\n",
       "      <td>Bracken</td>\n",
       "      <td>Lannister</td>\n",
       "      <td>NaN</td>\n",
       "      <td>NaN</td>\n",
       "      <td>Blackwood</td>\n",
       "      <td>...</td>\n",
       "      <td>0.0</td>\n",
       "      <td>1.0</td>\n",
       "      <td>1500.0</td>\n",
       "      <td>NaN</td>\n",
       "      <td>Jonos Bracken, Jaime Lannister</td>\n",
       "      <td>Tytos Blackwood</td>\n",
       "      <td>0.0</td>\n",
       "      <td>Raventree</td>\n",
       "      <td>The Riverlands</td>\n",
       "      <td>NaN</td>\n",
       "    </tr>\n",
       "    <tr>\n",
       "      <th>37</th>\n",
       "      <td>Siege of Winterfell</td>\n",
       "      <td>300</td>\n",
       "      <td>38</td>\n",
       "      <td>Stannis Baratheon</td>\n",
       "      <td>Joffrey/Tommen Baratheon</td>\n",
       "      <td>Baratheon</td>\n",
       "      <td>Karstark</td>\n",
       "      <td>Mormont</td>\n",
       "      <td>Glover</td>\n",
       "      <td>Bolton</td>\n",
       "      <td>...</td>\n",
       "      <td>NaN</td>\n",
       "      <td>NaN</td>\n",
       "      <td>5000.0</td>\n",
       "      <td>8000.0</td>\n",
       "      <td>Stannis Baratheon</td>\n",
       "      <td>Roose Bolton</td>\n",
       "      <td>0.0</td>\n",
       "      <td>Winterfell</td>\n",
       "      <td>The North</td>\n",
       "      <td>NaN</td>\n",
       "    </tr>\n",
       "  </tbody>\n",
       "</table>\n",
       "<p>5 rows × 25 columns</p>\n",
       "</div>"
      ],
      "text/plain": [
       "                           name  year  battle_number  \\\n",
       "33  Second Seige of Storm's End   300             34   \n",
       "34         Siege of Dragonstone   300             35   \n",
       "35            Siege of Riverrun   300             36   \n",
       "36           Siege of Raventree   300             37   \n",
       "37          Siege of Winterfell   300             38   \n",
       "\n",
       "               attacker_king             defender_king attacker_1 attacker_2  \\\n",
       "33  Joffrey/Tommen Baratheon         Stannis Baratheon  Baratheon        NaN   \n",
       "34  Joffrey/Tommen Baratheon         Stannis Baratheon  Baratheon        NaN   \n",
       "35  Joffrey/Tommen Baratheon                Robb Stark  Lannister       Frey   \n",
       "36  Joffrey/Tommen Baratheon                Robb Stark    Bracken  Lannister   \n",
       "37         Stannis Baratheon  Joffrey/Tommen Baratheon  Baratheon   Karstark   \n",
       "\n",
       "   attacker_3 attacker_4 defender_1 ...  major_death  major_capture  \\\n",
       "33        NaN        NaN  Baratheon ...          0.0            0.0   \n",
       "34        NaN        NaN  Baratheon ...          0.0            0.0   \n",
       "35        NaN        NaN      Tully ...          0.0            0.0   \n",
       "36        NaN        NaN  Blackwood ...          0.0            1.0   \n",
       "37    Mormont     Glover     Bolton ...          NaN            NaN   \n",
       "\n",
       "    attacker_size defender_size                           attacker_commander  \\\n",
       "33            NaN         200.0                    Mace Tyrell, Mathis Rowan   \n",
       "34         2000.0           NaN                 Loras Tyrell, Raxter Redwyne   \n",
       "35         3000.0           NaN  Daven Lannister, Ryman Fey, Jaime Lannister   \n",
       "36         1500.0           NaN               Jonos Bracken, Jaime Lannister   \n",
       "37         5000.0        8000.0                            Stannis Baratheon   \n",
       "\n",
       "    defender_commander  summer     location          region note  \n",
       "33     Gilbert Farring     0.0  Storm's End  The Stormlands  NaN  \n",
       "34       Rolland Storm     0.0  Dragonstone  The Stormlands  NaN  \n",
       "35       Brynden Tully     0.0     Riverrun  The Riverlands  NaN  \n",
       "36     Tytos Blackwood     0.0    Raventree  The Riverlands  NaN  \n",
       "37        Roose Bolton     0.0   Winterfell       The North  NaN  \n",
       "\n",
       "[5 rows x 25 columns]"
      ]
     },
     "execution_count": 3,
     "metadata": {},
     "output_type": "execute_result"
    }
   ],
   "source": [
    "df_base.tail()"
   ]
  },
  {
   "cell_type": "code",
   "execution_count": 4,
   "metadata": {},
   "outputs": [
    {
     "name": "stdout",
     "output_type": "stream",
     "text": [
      "<class 'pandas.core.frame.DataFrame'>\n",
      "RangeIndex: 38 entries, 0 to 37\n",
      "Data columns (total 25 columns):\n",
      "name                  38 non-null object\n",
      "year                  38 non-null int64\n",
      "battle_number         38 non-null int64\n",
      "attacker_king         36 non-null object\n",
      "defender_king         35 non-null object\n",
      "attacker_1            38 non-null object\n",
      "attacker_2            10 non-null object\n",
      "attacker_3            3 non-null object\n",
      "attacker_4            2 non-null object\n",
      "defender_1            37 non-null object\n",
      "defender_2            2 non-null object\n",
      "defender_3            0 non-null float64\n",
      "defender_4            0 non-null float64\n",
      "attacker_outcome      37 non-null object\n",
      "battle_type           37 non-null object\n",
      "major_death           37 non-null float64\n",
      "major_capture         37 non-null float64\n",
      "attacker_size         24 non-null float64\n",
      "defender_size         19 non-null float64\n",
      "attacker_commander    37 non-null object\n",
      "defender_commander    28 non-null object\n",
      "summer                37 non-null float64\n",
      "location              37 non-null object\n",
      "region                38 non-null object\n",
      "note                  5 non-null object\n",
      "dtypes: float64(7), int64(2), object(16)\n",
      "memory usage: 7.5+ KB\n"
     ]
    }
   ],
   "source": [
    "# TO DO: check the dataset general info\n",
    "df_base.info()"
   ]
  },
  {
   "cell_type": "code",
   "execution_count": 5,
   "metadata": {},
   "outputs": [
    {
     "data": {
      "text/plain": [
       "0"
      ]
     },
     "execution_count": 5,
     "metadata": {},
     "output_type": "execute_result"
    }
   ],
   "source": [
    "#检查是否有冗余记录\n",
    "sum(df_base.duplicated())"
   ]
  },
  {
   "cell_type": "markdown",
   "metadata": {},
   "source": [
    "针对5个问题涉及的列进行分析,看看是否需要清洗:\n",
    "\n",
    "1. 哪一个国王发起了最多的战争?哪一个国王作为攻击方的胜利比率最大?\n",
    "\n",
    "问题涉及的列存在空值: attacker_king(2个空值),attacker_outcome(1个空值),分析前需要剔除空值记录.attacker_king对于\"Joffrey/Tommen Baratheon\"Tomen Baratheon继承了Joffrey的王位，这种情况,战争发起者是第一位国王,所以分析前需要截取该字段第一位国王姓名.\n",
    "\n",
    "2. 哪个区域发生战争次数最多?哪一个区域作为攻击方的胜利比率最大?\n",
    "\n",
    "问题涉及的列存在空值:region,attacker_outcome(1个空值),分析前需要剔除空值记录.\n",
    "\n",
    "3. 哪一类战争发生次数最多?哪一类战争攻击方的胜利比率最大?\n",
    "\n",
    "问题涉及的列存在空值:battle_type(1个空值),attacker_outcome(1个空值),分析前需要剔除空值记录.\n",
    "\n",
    "4. 夏季和其他季节中,作为攻击方的胜利比率有变化吗?\n",
    "\n",
    "问题涉及的列存在空值:summer(1个空值),attacker_outcome(1个空值),分析前需要剔除空值记录.\n",
    "\n",
    "5. 攻击方和防守方力量比和攻击方的战争结果有什么联系?\n",
    "\n",
    "问题涉及的列存在空值:attacker_size(14个空值),defender_size(19个空值),attacker_outcome(1个空值),分析前需要剔除空值记录."
   ]
  },
  {
   "cell_type": "code",
   "execution_count": 6,
   "metadata": {},
   "outputs": [
    {
     "data": {
      "text/plain": [
       "False    36\n",
       "True      2\n",
       "Name: attacker_king, dtype: int64"
      ]
     },
     "execution_count": 6,
     "metadata": {},
     "output_type": "execute_result"
    }
   ],
   "source": [
    "df_base['attacker_king'].isnull().value_counts()"
   ]
  },
  {
   "cell_type": "code",
   "execution_count": 7,
   "metadata": {},
   "outputs": [
    {
     "data": {
      "text/plain": [
       "False    37\n",
       "True      1\n",
       "Name: attacker_outcome, dtype: int64"
      ]
     },
     "execution_count": 7,
     "metadata": {},
     "output_type": "execute_result"
    }
   ],
   "source": [
    "df_base['attacker_outcome'].isnull().value_counts()"
   ]
  },
  {
   "cell_type": "code",
   "execution_count": 8,
   "metadata": {},
   "outputs": [
    {
     "data": {
      "text/plain": [
       "False    38\n",
       "Name: region, dtype: int64"
      ]
     },
     "execution_count": 8,
     "metadata": {},
     "output_type": "execute_result"
    }
   ],
   "source": [
    "df_base['region'].isnull().value_counts()"
   ]
  },
  {
   "cell_type": "code",
   "execution_count": 9,
   "metadata": {},
   "outputs": [
    {
     "data": {
      "text/plain": [
       "False    37\n",
       "True      1\n",
       "Name: battle_type, dtype: int64"
      ]
     },
     "execution_count": 9,
     "metadata": {},
     "output_type": "execute_result"
    }
   ],
   "source": [
    "df_base['battle_type'].isnull().value_counts()"
   ]
  },
  {
   "cell_type": "code",
   "execution_count": 10,
   "metadata": {},
   "outputs": [
    {
     "data": {
      "text/plain": [
       "False    37\n",
       "True      1\n",
       "Name: summer, dtype: int64"
      ]
     },
     "execution_count": 10,
     "metadata": {},
     "output_type": "execute_result"
    }
   ],
   "source": [
    "df_base['summer'].isnull().value_counts()"
   ]
  },
  {
   "cell_type": "code",
   "execution_count": 11,
   "metadata": {},
   "outputs": [
    {
     "data": {
      "text/plain": [
       "False    24\n",
       "True     14\n",
       "Name: attacker_size, dtype: int64"
      ]
     },
     "execution_count": 11,
     "metadata": {},
     "output_type": "execute_result"
    }
   ],
   "source": [
    "df_base['attacker_size'].isnull().value_counts()"
   ]
  },
  {
   "cell_type": "code",
   "execution_count": 12,
   "metadata": {},
   "outputs": [
    {
     "data": {
      "text/plain": [
       "True     19\n",
       "False    19\n",
       "Name: defender_size, dtype: int64"
      ]
     },
     "execution_count": 12,
     "metadata": {},
     "output_type": "execute_result"
    }
   ],
   "source": [
    "df_base['defender_size'].isnull().value_counts()"
   ]
  },
  {
   "cell_type": "code",
   "execution_count": 13,
   "metadata": {},
   "outputs": [],
   "source": [
    "# TO DO: clean the data (optional: only there are problems)\n",
    "#提取删除指定列为空的函数drop_na\n",
    "def drop_na(df,colname,keywords):\n",
    "    df[colname]=df[colname].fillna(keywords)\n",
    "    df=df.drop(df[df[colname]==keywords].index.tolist())\n",
    "    return df"
   ]
  },
  {
   "cell_type": "code",
   "execution_count": 14,
   "metadata": {},
   "outputs": [
    {
     "name": "stdout",
     "output_type": "stream",
     "text": [
      "<class 'pandas.core.frame.DataFrame'>\n",
      "Int64Index: 37 entries, 0 to 36\n",
      "Data columns (total 25 columns):\n",
      "name                  37 non-null object\n",
      "year                  37 non-null int64\n",
      "battle_number         37 non-null int64\n",
      "attacker_king         35 non-null object\n",
      "defender_king         34 non-null object\n",
      "attacker_1            37 non-null object\n",
      "attacker_2            9 non-null object\n",
      "attacker_3            2 non-null object\n",
      "attacker_4            1 non-null object\n",
      "defender_1            36 non-null object\n",
      "defender_2            1 non-null object\n",
      "defender_3            0 non-null float64\n",
      "defender_4            0 non-null float64\n",
      "attacker_outcome      37 non-null object\n",
      "battle_type           37 non-null object\n",
      "major_death           37 non-null float64\n",
      "major_capture         37 non-null float64\n",
      "attacker_size         23 non-null float64\n",
      "defender_size         18 non-null float64\n",
      "attacker_commander    36 non-null object\n",
      "defender_commander    27 non-null object\n",
      "summer                36 non-null float64\n",
      "location              36 non-null object\n",
      "region                37 non-null object\n",
      "note                  5 non-null object\n",
      "dtypes: float64(7), int64(2), object(16)\n",
      "memory usage: 7.5+ KB\n"
     ]
    }
   ],
   "source": [
    "#删除战争结果未知的1条记录,作为基础数据\n",
    "df_new=drop_na(df_base,'attacker_outcome','tobedrop')\n",
    "df_new.info()"
   ]
  },
  {
   "cell_type": "code",
   "execution_count": 15,
   "metadata": {},
   "outputs": [],
   "source": [
    "#attacker_king,summer存在null值,替换为'tobedrop'.attacker_size和defender_size列null值暂不替换.\n",
    "df_new['attacker_king']=df_new['attacker_king'].fillna('tobedrop')\n",
    "df_new['summer']=df_new['summer'].fillna(-1)\n",
    "#df_new['attacker_size']=df_new['attacker_size'].fillna(-1)\n",
    "#df_new['defender_size']=df_new['defender_size'].fillna(-1)"
   ]
  },
  {
   "cell_type": "code",
   "execution_count": 16,
   "metadata": {},
   "outputs": [
    {
     "data": {
      "text/plain": [
       "False    37\n",
       "Name: attacker_king, dtype: int64"
      ]
     },
     "execution_count": 16,
     "metadata": {},
     "output_type": "execute_result"
    }
   ],
   "source": [
    "#对于\"Joffrey/Tommen Baratheon\"Tomen Baratheon继承了Joffrey的王位，这种情况,战争发起者是第一位国王,所以分析前需要截取该字段第一位国王姓名.在此检测拆分前后是否产生空值.\n",
    "df_new['attacker_king'].isnull().value_counts()"
   ]
  },
  {
   "cell_type": "code",
   "execution_count": 17,
   "metadata": {},
   "outputs": [
    {
     "data": {
      "text/plain": [
       "False    37\n",
       "Name: attacker_king, dtype: int64"
      ]
     },
     "execution_count": 17,
     "metadata": {},
     "output_type": "execute_result"
    }
   ],
   "source": [
    "i=0\n",
    "while i<len(df_new.index):\n",
    "    if '/' in df_new.loc[i,'attacker_king']:\n",
    "        df_new.loc[i,'attacker_king']=df_new.loc[i,'attacker_king'].split('/')[0]\n",
    "        df_new.loc[i,'king_replace']='Y'\n",
    "        i+=1\n",
    "    else:\n",
    "        df_new.loc[i,'king_replace']='N'\n",
    "        i+=1\n",
    "        \n",
    "#拆分后,'attacker_king'列未产生新的空值.\n",
    "df_new['attacker_king'].isnull().value_counts()"
   ]
  },
  {
   "cell_type": "code",
   "execution_count": 18,
   "metadata": {},
   "outputs": [],
   "source": [
    "#增加一列攻守力量比,将null值替换为-1,-1说明攻守力量至少有一方记录不全,分析时待丢弃\n",
    "df_new['power_ratio']=df_new['attacker_size']/df_new['defender_size']\n",
    "df_new['power_ratio']=df_new['power_ratio'].fillna(-1)"
   ]
  },
  {
   "cell_type": "markdown",
   "metadata": {},
   "source": [
    "使用pd.set_option('display.max_columns', None)使表格中列显示时不被省略"
   ]
  },
  {
   "cell_type": "code",
   "execution_count": 19,
   "metadata": {},
   "outputs": [
    {
     "data": {
      "text/html": [
       "<div>\n",
       "<style scoped>\n",
       "    .dataframe tbody tr th:only-of-type {\n",
       "        vertical-align: middle;\n",
       "    }\n",
       "\n",
       "    .dataframe tbody tr th {\n",
       "        vertical-align: top;\n",
       "    }\n",
       "\n",
       "    .dataframe thead th {\n",
       "        text-align: right;\n",
       "    }\n",
       "</style>\n",
       "<table border=\"1\" class=\"dataframe\">\n",
       "  <thead>\n",
       "    <tr style=\"text-align: right;\">\n",
       "      <th></th>\n",
       "      <th>name</th>\n",
       "      <th>year</th>\n",
       "      <th>battle_number</th>\n",
       "      <th>attacker_king</th>\n",
       "      <th>defender_king</th>\n",
       "      <th>attacker_1</th>\n",
       "      <th>attacker_2</th>\n",
       "      <th>attacker_3</th>\n",
       "      <th>attacker_4</th>\n",
       "      <th>defender_1</th>\n",
       "      <th>defender_2</th>\n",
       "      <th>defender_3</th>\n",
       "      <th>defender_4</th>\n",
       "      <th>attacker_outcome</th>\n",
       "      <th>battle_type</th>\n",
       "      <th>major_death</th>\n",
       "      <th>major_capture</th>\n",
       "      <th>attacker_size</th>\n",
       "      <th>defender_size</th>\n",
       "      <th>attacker_commander</th>\n",
       "      <th>defender_commander</th>\n",
       "      <th>summer</th>\n",
       "      <th>location</th>\n",
       "      <th>region</th>\n",
       "      <th>note</th>\n",
       "      <th>king_replace</th>\n",
       "      <th>power_ratio</th>\n",
       "    </tr>\n",
       "  </thead>\n",
       "  <tbody>\n",
       "    <tr>\n",
       "      <th>0</th>\n",
       "      <td>Battle of the Golden Tooth</td>\n",
       "      <td>298</td>\n",
       "      <td>1</td>\n",
       "      <td>Joffrey</td>\n",
       "      <td>Robb Stark</td>\n",
       "      <td>Lannister</td>\n",
       "      <td>NaN</td>\n",
       "      <td>NaN</td>\n",
       "      <td>NaN</td>\n",
       "      <td>Tully</td>\n",
       "      <td>NaN</td>\n",
       "      <td>NaN</td>\n",
       "      <td>NaN</td>\n",
       "      <td>win</td>\n",
       "      <td>pitched battle</td>\n",
       "      <td>1.0</td>\n",
       "      <td>0.0</td>\n",
       "      <td>15000.0</td>\n",
       "      <td>4000.0</td>\n",
       "      <td>Jaime Lannister</td>\n",
       "      <td>Clement Piper, Vance</td>\n",
       "      <td>1.0</td>\n",
       "      <td>Golden Tooth</td>\n",
       "      <td>The Westerlands</td>\n",
       "      <td>NaN</td>\n",
       "      <td>Y</td>\n",
       "      <td>3.7500</td>\n",
       "    </tr>\n",
       "    <tr>\n",
       "      <th>1</th>\n",
       "      <td>Battle at the Mummer's Ford</td>\n",
       "      <td>298</td>\n",
       "      <td>2</td>\n",
       "      <td>Joffrey</td>\n",
       "      <td>Robb Stark</td>\n",
       "      <td>Lannister</td>\n",
       "      <td>NaN</td>\n",
       "      <td>NaN</td>\n",
       "      <td>NaN</td>\n",
       "      <td>Baratheon</td>\n",
       "      <td>NaN</td>\n",
       "      <td>NaN</td>\n",
       "      <td>NaN</td>\n",
       "      <td>win</td>\n",
       "      <td>ambush</td>\n",
       "      <td>1.0</td>\n",
       "      <td>0.0</td>\n",
       "      <td>NaN</td>\n",
       "      <td>120.0</td>\n",
       "      <td>Gregor Clegane</td>\n",
       "      <td>Beric Dondarrion</td>\n",
       "      <td>1.0</td>\n",
       "      <td>Mummer's Ford</td>\n",
       "      <td>The Riverlands</td>\n",
       "      <td>NaN</td>\n",
       "      <td>Y</td>\n",
       "      <td>-1.0000</td>\n",
       "    </tr>\n",
       "    <tr>\n",
       "      <th>2</th>\n",
       "      <td>Battle of Riverrun</td>\n",
       "      <td>298</td>\n",
       "      <td>3</td>\n",
       "      <td>Joffrey</td>\n",
       "      <td>Robb Stark</td>\n",
       "      <td>Lannister</td>\n",
       "      <td>NaN</td>\n",
       "      <td>NaN</td>\n",
       "      <td>NaN</td>\n",
       "      <td>Tully</td>\n",
       "      <td>NaN</td>\n",
       "      <td>NaN</td>\n",
       "      <td>NaN</td>\n",
       "      <td>win</td>\n",
       "      <td>pitched battle</td>\n",
       "      <td>0.0</td>\n",
       "      <td>1.0</td>\n",
       "      <td>15000.0</td>\n",
       "      <td>10000.0</td>\n",
       "      <td>Jaime Lannister, Andros Brax</td>\n",
       "      <td>Edmure Tully, Tytos Blackwood</td>\n",
       "      <td>1.0</td>\n",
       "      <td>Riverrun</td>\n",
       "      <td>The Riverlands</td>\n",
       "      <td>NaN</td>\n",
       "      <td>Y</td>\n",
       "      <td>1.5000</td>\n",
       "    </tr>\n",
       "    <tr>\n",
       "      <th>3</th>\n",
       "      <td>Battle of the Green Fork</td>\n",
       "      <td>298</td>\n",
       "      <td>4</td>\n",
       "      <td>Robb Stark</td>\n",
       "      <td>Joffrey/Tommen Baratheon</td>\n",
       "      <td>Stark</td>\n",
       "      <td>NaN</td>\n",
       "      <td>NaN</td>\n",
       "      <td>NaN</td>\n",
       "      <td>Lannister</td>\n",
       "      <td>NaN</td>\n",
       "      <td>NaN</td>\n",
       "      <td>NaN</td>\n",
       "      <td>loss</td>\n",
       "      <td>pitched battle</td>\n",
       "      <td>1.0</td>\n",
       "      <td>1.0</td>\n",
       "      <td>18000.0</td>\n",
       "      <td>20000.0</td>\n",
       "      <td>Roose Bolton, Wylis Manderly, Medger Cerwyn, H...</td>\n",
       "      <td>Tywin Lannister, Gregor Clegane, Kevan Lannist...</td>\n",
       "      <td>1.0</td>\n",
       "      <td>Green Fork</td>\n",
       "      <td>The Riverlands</td>\n",
       "      <td>NaN</td>\n",
       "      <td>N</td>\n",
       "      <td>0.9000</td>\n",
       "    </tr>\n",
       "    <tr>\n",
       "      <th>4</th>\n",
       "      <td>Battle of the Whispering Wood</td>\n",
       "      <td>298</td>\n",
       "      <td>5</td>\n",
       "      <td>Robb Stark</td>\n",
       "      <td>Joffrey/Tommen Baratheon</td>\n",
       "      <td>Stark</td>\n",
       "      <td>Tully</td>\n",
       "      <td>NaN</td>\n",
       "      <td>NaN</td>\n",
       "      <td>Lannister</td>\n",
       "      <td>NaN</td>\n",
       "      <td>NaN</td>\n",
       "      <td>NaN</td>\n",
       "      <td>win</td>\n",
       "      <td>ambush</td>\n",
       "      <td>1.0</td>\n",
       "      <td>1.0</td>\n",
       "      <td>1875.0</td>\n",
       "      <td>6000.0</td>\n",
       "      <td>Robb Stark, Brynden Tully</td>\n",
       "      <td>Jaime Lannister</td>\n",
       "      <td>1.0</td>\n",
       "      <td>Whispering Wood</td>\n",
       "      <td>The Riverlands</td>\n",
       "      <td>NaN</td>\n",
       "      <td>N</td>\n",
       "      <td>0.3125</td>\n",
       "    </tr>\n",
       "  </tbody>\n",
       "</table>\n",
       "</div>"
      ],
      "text/plain": [
       "                            name  year  battle_number attacker_king  \\\n",
       "0     Battle of the Golden Tooth   298              1       Joffrey   \n",
       "1    Battle at the Mummer's Ford   298              2       Joffrey   \n",
       "2             Battle of Riverrun   298              3       Joffrey   \n",
       "3       Battle of the Green Fork   298              4    Robb Stark   \n",
       "4  Battle of the Whispering Wood   298              5    Robb Stark   \n",
       "\n",
       "              defender_king attacker_1 attacker_2 attacker_3 attacker_4  \\\n",
       "0                Robb Stark  Lannister        NaN        NaN        NaN   \n",
       "1                Robb Stark  Lannister        NaN        NaN        NaN   \n",
       "2                Robb Stark  Lannister        NaN        NaN        NaN   \n",
       "3  Joffrey/Tommen Baratheon      Stark        NaN        NaN        NaN   \n",
       "4  Joffrey/Tommen Baratheon      Stark      Tully        NaN        NaN   \n",
       "\n",
       "  defender_1 defender_2  defender_3  defender_4 attacker_outcome  \\\n",
       "0      Tully        NaN         NaN         NaN              win   \n",
       "1  Baratheon        NaN         NaN         NaN              win   \n",
       "2      Tully        NaN         NaN         NaN              win   \n",
       "3  Lannister        NaN         NaN         NaN             loss   \n",
       "4  Lannister        NaN         NaN         NaN              win   \n",
       "\n",
       "      battle_type  major_death  major_capture  attacker_size  defender_size  \\\n",
       "0  pitched battle          1.0            0.0        15000.0         4000.0   \n",
       "1          ambush          1.0            0.0            NaN          120.0   \n",
       "2  pitched battle          0.0            1.0        15000.0        10000.0   \n",
       "3  pitched battle          1.0            1.0        18000.0        20000.0   \n",
       "4          ambush          1.0            1.0         1875.0         6000.0   \n",
       "\n",
       "                                  attacker_commander  \\\n",
       "0                                    Jaime Lannister   \n",
       "1                                     Gregor Clegane   \n",
       "2                       Jaime Lannister, Andros Brax   \n",
       "3  Roose Bolton, Wylis Manderly, Medger Cerwyn, H...   \n",
       "4                          Robb Stark, Brynden Tully   \n",
       "\n",
       "                                  defender_commander  summer         location  \\\n",
       "0                               Clement Piper, Vance     1.0     Golden Tooth   \n",
       "1                                   Beric Dondarrion     1.0    Mummer's Ford   \n",
       "2                      Edmure Tully, Tytos Blackwood     1.0         Riverrun   \n",
       "3  Tywin Lannister, Gregor Clegane, Kevan Lannist...     1.0       Green Fork   \n",
       "4                                    Jaime Lannister     1.0  Whispering Wood   \n",
       "\n",
       "            region note king_replace  power_ratio  \n",
       "0  The Westerlands  NaN            Y       3.7500  \n",
       "1   The Riverlands  NaN            Y      -1.0000  \n",
       "2   The Riverlands  NaN            Y       1.5000  \n",
       "3   The Riverlands  NaN            N       0.9000  \n",
       "4   The Riverlands  NaN            N       0.3125  "
      ]
     },
     "execution_count": 19,
     "metadata": {},
     "output_type": "execute_result"
    }
   ],
   "source": [
    "pd.set_option('display.max_columns', None)\n",
    "df_new.head()"
   ]
  },
  {
   "cell_type": "markdown",
   "metadata": {},
   "source": [
    "## 数据探索分析"
   ]
  },
  {
   "cell_type": "markdown",
   "metadata": {},
   "source": [
    "哪一个国王发起了最多的战争?哪一个国王作为攻击方的胜利比率最大?\n",
    "\n",
    "问题涉及的列存在空值: attacker_king(2个空值),attacker_outcome(1个空值),分析前需要剔除空值记录.attacker_king对于\"Joffrey/Tommen Baratheon\"Tomen Baratheon继承了Joffrey的王位，这种情况,战争发起者是第一位国王,所以分析前需要截取该字段第一位国王姓名.\n",
    "\n",
    "哪个区域发生战争次数最多?哪一个区域作为攻击方的胜利比率最大?\n",
    "问题涉及的列存在空值:region,attacker_outcome(1个空值),分析前需要剔除空值记录.\n",
    "\n",
    "哪一类战争发生次数最多?哪一类战争攻击方的胜利比率最大?\n",
    "问题涉及的列存在空值:battle_type(1个空值),attacker_outcome(1个空值),分析前需要剔除空值记录.\n",
    "\n",
    "夏季和其他季节中,作为攻击方的胜利比率有变化吗?\n",
    "问题涉及的列存在空值:summer(1个空值),attacker_outcome(1个空值),分析前需要剔除空值记录.\n",
    "\n",
    "攻击方和防守方力量比和攻击方的战争结果有什么联系?\n",
    "问题涉及的列存在空值:attacker_size(14个空值),defender_size(19个空值),attacker_outcome(1个空值),分析前需要剔除空值记录."
   ]
  },
  {
   "cell_type": "code",
   "execution_count": 20,
   "metadata": {},
   "outputs": [
    {
     "data": {
      "text/html": [
       "<div>\n",
       "<style scoped>\n",
       "    .dataframe tbody tr th:only-of-type {\n",
       "        vertical-align: middle;\n",
       "    }\n",
       "\n",
       "    .dataframe tbody tr th {\n",
       "        vertical-align: top;\n",
       "    }\n",
       "\n",
       "    .dataframe thead th {\n",
       "        text-align: right;\n",
       "    }\n",
       "</style>\n",
       "<table border=\"1\" class=\"dataframe\">\n",
       "  <thead>\n",
       "    <tr style=\"text-align: right;\">\n",
       "      <th></th>\n",
       "      <th>attacker_king</th>\n",
       "      <th>attacker_outcome</th>\n",
       "      <th>times</th>\n",
       "    </tr>\n",
       "  </thead>\n",
       "  <tbody>\n",
       "    <tr>\n",
       "      <th>0</th>\n",
       "      <td>Balon</td>\n",
       "      <td>win</td>\n",
       "      <td>7</td>\n",
       "    </tr>\n",
       "    <tr>\n",
       "      <th>1</th>\n",
       "      <td>Joffrey</td>\n",
       "      <td>loss</td>\n",
       "      <td>1</td>\n",
       "    </tr>\n",
       "    <tr>\n",
       "      <th>2</th>\n",
       "      <td>Joffrey</td>\n",
       "      <td>win</td>\n",
       "      <td>13</td>\n",
       "    </tr>\n",
       "    <tr>\n",
       "      <th>3</th>\n",
       "      <td>Robb Stark</td>\n",
       "      <td>loss</td>\n",
       "      <td>2</td>\n",
       "    </tr>\n",
       "    <tr>\n",
       "      <th>4</th>\n",
       "      <td>Robb Stark</td>\n",
       "      <td>win</td>\n",
       "      <td>8</td>\n",
       "    </tr>\n",
       "  </tbody>\n",
       "</table>\n",
       "</div>"
      ],
      "text/plain": [
       "  attacker_king attacker_outcome  times\n",
       "0         Balon              win      7\n",
       "1       Joffrey             loss      1\n",
       "2       Joffrey              win     13\n",
       "3    Robb Stark             loss      2\n",
       "4    Robb Stark              win      8"
      ]
     },
     "execution_count": 20,
     "metadata": {},
     "output_type": "execute_result"
    }
   ],
   "source": [
    "# 1哪一个国王发起了最多的战争?哪一个国王作为攻击方的胜利比率最大?\n",
    "#问题涉及的列存在空值: attacker_king(2个空值,基础表已标记为tobedrop),attacker_outcome(1个空值,基础表已删除),attacker_king对于\"Joffrey/Tommen Baratheon\"Tomen Baratheon继承了Joffrey的王位，这种情况,战争发起者是第一位国王,所以分析前需要截取该字段第一位国王姓名.\n",
    "#https://stackoverflow.com/questions/10373660/converting-a-pandas-groupby-object-to-dataframe\n",
    "df_king=df_new[['attacker_king','attacker_outcome','king_replace']].groupby(['attacker_king','attacker_outcome']).count().reset_index()\n",
    "df_king.columns=['attacker_king','attacker_outcome','times']\n",
    "df_king.head()"
   ]
  },
  {
   "cell_type": "code",
   "execution_count": 21,
   "metadata": {},
   "outputs": [],
   "source": [
    "#抽取二次分析操作作为公共函数\n",
    "def df_analyse(df,column1,fillna_number):\n",
    "    df_analyse=pd.DataFrame([],index=df[column1].unique().tolist(),columns=['win_times','loss_times','draw_times','total_times','win_rate'])\n",
    "    df_analyse=df_analyse.fillna(fillna_number)\n",
    "    for i in df_analyse.index:\n",
    "        if df['times'][df[column1].isin([i])&df['attacker_outcome'].isin(['win'])].any():\n",
    "           #https://stackoverflow.com/questions/18199288/getting-the-integer-index-of-a-pandas-dataframe-row-fulfilling-a-condition\n",
    "            s=df.index.get_loc(df.index[df[column1].isin([i])&df['attacker_outcome'].isin(['win'])][0])\n",
    "            df_analyse.loc[i]['win_times']=df.iat[s,2]\n",
    "        if df['times'][df[column1].isin([i])&df['attacker_outcome'].isin(['loss'])].any():\n",
    "            s=df.index.get_loc(df.index[df[column1].isin([i])&df['attacker_outcome'].isin(['loss'])][0])\n",
    "            df_analyse.loc[i]['loss_times']=df.iat[s,2]\n",
    "        if df['times'][df[column1].isin([i])&df['attacker_outcome'].isin(['draw'])].any():\n",
    "            s=df.index.get_loc(df.index[df[column1].isin([i])&df['attacker_outcome'].isin(['draw'])][0])\n",
    "            df_analyse.loc[i]['draw_times']=df.iat[s,2]\n",
    "        df_analyse.loc[i]['total_times']=df_analyse.loc[i]['win_times']+df_analyse.loc[i]['loss_times']+df_analyse.loc[i]['draw_times']\n",
    "        df_analyse.loc[i]['win_rate']=float(df_analyse.loc[i]['win_times']/df_analyse.loc[i]['total_times'])\n",
    "\n",
    "    #https://blog.csdn.net/songyunli1111/article/details/79306639 \n",
    "    #删掉tobedrop行\n",
    "    if 'tobedrop' in df_analyse.index:\n",
    "        df_analyse.drop(['tobedrop'],inplace=True)\n",
    "    return df_analyse"
   ]
  },
  {
   "cell_type": "markdown",
   "metadata": {},
   "source": [
    "待验证:在生成一下这个数据框的时候，你可以看下这段代码会不会个更加简便一些\n",
    "df = pd.read_csv('battles.csv')\n",
    "df = df[df.attacker_outcome.notnull()]\n",
    "df_r = df.groupby(['attacker_king','attacker_outcome']).name.count().unstack()\n",
    "df_r.columns.name = None\n",
    "df_r.fillna(0,inplace = True)\n",
    "df_r[\"ratio\"] = df_r[\"win\"]/(df_r[\"win\"]+df_r[\"loss\"])\n",
    "df_r[\"Total\"] = df_r[\"win\"]+df_r[\"loss\"]"
   ]
  },
  {
   "cell_type": "code",
   "execution_count": 22,
   "metadata": {},
   "outputs": [
    {
     "data": {
      "text/plain": [
       "array([<matplotlib.axes._subplots.AxesSubplot object at 0x000000000E64CAC8>,\n",
       "       <matplotlib.axes._subplots.AxesSubplot object at 0x00000000106A9CC0>],\n",
       "      dtype=object)"
      ]
     },
     "execution_count": 22,
     "metadata": {},
     "output_type": "execute_result"
    },
    {
     "data": {
      "image/png": "[encoded data removed]",
      "text/plain": [
       "<Figure size 360x360 with 2 Axes>"
      ]
     },
     "metadata": {
      "needs_background": "light"
     },
     "output_type": "display_data"
    }
   ],
   "source": [
    "df_king_rate=df_analyse(df_king,'attacker_king',0.0)\n",
    "df_king_rate[['total_times','win_rate']].plot(kind='bar',subplots=True,title='king attacks analyse',figsize=(5,5))"
   ]
  },
  {
   "cell_type": "markdown",
   "metadata": {},
   "source": [
    "总次数和胜率可以绘制在一起，使用组合的图形\n",
    "import matplotlib.pyplot as plt\n",
    "ax1 = df_king_rate[\"total_times\"].plot(kind = 'bar')\n",
    "ax2 = ax1.twinx()\n",
    "ax2.set_ylim(0,1.1)\n",
    "ax2.plot(df_king_rate.index,df_king_rate[\"win_rate\"],'ro-')# ro- 是一种格式简写，r-read,o-标点，- -折线 \n",
    "ax1.legend(bbox_to_anchor=(1.39, 1.03))\n",
    "plt.legend(bbox_to_anchor=(1.352, 0.9))\n",
    "plt.show()\n",
    "将胜负情况也绘制出来就更直观了\n",
    "import matplotlib.pyplot as plt\n",
    "ax1 = df_king_rate[\"win_times\",\"loss_times\"].plot(kind = 'bar')\n",
    "ax2 = ax1.twinx()\n",
    "ax2.set_ylim(0,1.1)\n",
    "ax2.plot(df_king_rate.index,df_king_rate[\"win_rate\"],'ro-')# ro- 是一种格式简写，r-read,o-标点，- -折线 \n",
    "ax1.legend(bbox_to_anchor=(1.39, 1.03))\n",
    "plt.legend(bbox_to_anchor=(1.352, 0.9))\n",
    "plt.show()"
   ]
  },
  {
   "cell_type": "markdown",
   "metadata": {},
   "source": [
    "从上图得出:Joffrey主动发起战争次数最多,Balon Greyjoy胜利比率最高."
   ]
  },
  {
   "cell_type": "code",
   "execution_count": 23,
   "metadata": {},
   "outputs": [
    {
     "data": {
      "text/plain": [
       "array([<matplotlib.axes._subplots.AxesSubplot object at 0x0000000010795438>,\n",
       "       <matplotlib.axes._subplots.AxesSubplot object at 0x00000000107DCCF8>],\n",
       "      dtype=object)"
      ]
     },
     "execution_count": 23,
     "metadata": {},
     "output_type": "execute_result"
    },
    {
     "data": {
      "image/png": "[encoded data removed]",
      "text/plain": [
       "<Figure size 360x360 with 2 Axes>"
      ]
     },
     "metadata": {
      "needs_background": "light"
     },
     "output_type": "display_data"
    }
   ],
   "source": [
    "#2哪个区域发生战争次数最多?哪一个区域作为攻击方的胜利比率最大? 问题涉及的列存在空值:region,attacker_outcome(1个空值,基础表已删除).\n",
    "df_region=df_new[['region','attacker_outcome','king_replace']].groupby(['region','attacker_outcome']).count().reset_index()\n",
    "df_region.columns=['region','attacker_outcome','times']\n",
    "df_region_rate=df_analyse(df_region,'region',0.0)\n",
    "df_region_rate[['total_times','win_rate']].plot(kind='bar',subplots=True,title='region attacks analyse',figsize=(5,5))"
   ]
  },
  {
   "cell_type": "markdown",
   "metadata": {},
   "source": [
    "从上图得出,The Riverlands发生的战争次数最多,The North,The Reach,The Stormlands,The Westerlands胜利比率最高."
   ]
  },
  {
   "cell_type": "code",
   "execution_count": 24,
   "metadata": {},
   "outputs": [
    {
     "data": {
      "text/plain": [
       "array([<matplotlib.axes._subplots.AxesSubplot object at 0x00000000108A3438>,\n",
       "       <matplotlib.axes._subplots.AxesSubplot object at 0x00000000108E44A8>],\n",
       "      dtype=object)"
      ]
     },
     "execution_count": 24,
     "metadata": {},
     "output_type": "execute_result"
    },
    {
     "data": {
      "image/png": "[encoded data removed]",
      "text/plain": [
       "<Figure size 360x360 with 2 Axes>"
      ]
     },
     "metadata": {
      "needs_background": "light"
     },
     "output_type": "display_data"
    }
   ],
   "source": [
    "#3哪一类战争发生次数最多?哪一类战争攻击方的胜利比率最大? 问题涉及的列存在空值:battle_type(1个空值,已替换为tobedtop),attacker_outcome(1个空值,基础数据已删除).\n",
    "df_battle=df_new[['battle_type','attacker_outcome','king_replace']].groupby(['battle_type','attacker_outcome']).count().reset_index()\n",
    "df_battle.columns=['battle_type','attacker_outcome','times']\n",
    "df_battle_rate=df_analyse(df_battle,'battle_type',0.0)\n",
    "df_battle_rate[['total_times','win_rate']].plot(kind='bar',subplots=True,title='battle_type analyse',figsize=(5,5))"
   ]
  },
  {
   "cell_type": "markdown",
   "metadata": {},
   "source": [
    "从上图看出,pitched battle类型战争最多,胜率最低.ambush和razing类型战争胜率最高."
   ]
  },
  {
   "cell_type": "code",
   "execution_count": 25,
   "metadata": {},
   "outputs": [
    {
     "data": {
      "text/plain": [
       "array([<matplotlib.axes._subplots.AxesSubplot object at 0x00000000109A1E80>,\n",
       "       <matplotlib.axes._subplots.AxesSubplot object at 0x00000000109BE668>],\n",
       "      dtype=object)"
      ]
     },
     "execution_count": 25,
     "metadata": {},
     "output_type": "execute_result"
    },
    {
     "data": {
      "image/png": "[encoded data removed]",
      "text/plain": [
       "<Figure size 432x432 with 2 Axes>"
      ]
     },
     "metadata": {},
     "output_type": "display_data"
    }
   ],
   "source": [
    "#4夏季和其他季节中,作为攻击方的胜利比率有变化吗? 问题涉及的列存在空值:summer(1个空值,已替换为-1),attacker_outcome(1个空值,已删除).\n",
    "df_season=df_new[['summer','attacker_outcome','king_replace']].groupby(['summer','attacker_outcome']).count().reset_index()\n",
    "df_season.columns=['summer_or_not','attacker_outcome','times']\n",
    "df_season_rate=df_analyse(df_season,'summer_or_not',0.0).reset_index()\n",
    "df_season_rate=drop_na(df_season_rate,'index',-1.0)\n",
    "df_season_rate[['total_times','win_rate']].plot(kind='pie',subplots=True,title='season analyse',figsize=(6,6))"
   ]
  },
  {
   "cell_type": "markdown",
   "metadata": {},
   "source": [
    "从上图看出,summer发生的战争次数最多,胜率比其他季节低."
   ]
  },
  {
   "cell_type": "code",
   "execution_count": 26,
   "metadata": {},
   "outputs": [
    {
     "data": {
      "text/plain": [
       "<matplotlib.axes._subplots.AxesSubplot at 0x10a162b0>"
      ]
     },
     "execution_count": 26,
     "metadata": {},
     "output_type": "execute_result"
    },
    {
     "data": {
      "image/png": "[encoded data removed]",
      "text/plain": [
       "<Figure size 432x288 with 1 Axes>"
      ]
     },
     "metadata": {
      "needs_background": "light"
     },
     "output_type": "display_data"
    }
   ],
   "source": [
    "#5攻击方和防守方力量比和攻击方的战争结果有什么联系? \n",
    "df_power=df_new[['power_ratio','attacker_outcome','king_replace']].groupby(['power_ratio','attacker_outcome']).count().reset_index()\n",
    "df_power=drop_na(df_power,'power_ratio',-1.0)\n",
    "df_power['power_ratio'].plot(kind='box')"
   ]
  },
  {
   "cell_type": "code",
   "execution_count": 27,
   "metadata": {},
   "outputs": [
    {
     "data": {
      "text/plain": [
       "<matplotlib.axes._subplots.AxesSubplot at 0x10a72da0>"
      ]
     },
     "execution_count": 27,
     "metadata": {},
     "output_type": "execute_result"
    },
    {
     "data": {
      "image/png": "[encoded data removed]",
      "text/plain": [
       "<Figure size 432x288 with 1 Axes>"
      ]
     },
     "metadata": {
      "needs_background": "light"
     },
     "output_type": "display_data"
    }
   ],
   "source": [
    "df_win=df_power[df_power['attacker_outcome']=='win']\n",
    "#df_win=drop_na(df_win,'power_ratio',-1.0)\n",
    "df_win['power_ratio'].plot(kind='box')"
   ]
  },
  {
   "cell_type": "code",
   "execution_count": 28,
   "metadata": {},
   "outputs": [
    {
     "data": {
      "text/plain": [
       "<matplotlib.axes._subplots.AxesSubplot at 0x10ab6be0>"
      ]
     },
     "execution_count": 28,
     "metadata": {},
     "output_type": "execute_result"
    },
    {
     "data": {
      "image/png": "[encoded data removed]",
      "text/plain": [
       "<Figure size 432x288 with 1 Axes>"
      ]
     },
     "metadata": {
      "needs_background": "light"
     },
     "output_type": "display_data"
    }
   ],
   "source": [
    "df_loss=df_power[df_power['attacker_outcome']=='loss']\n",
    "#df_loss=drop_na(df_loss,'power_ratio',-1.0)\n",
    "df_loss['power_ratio'].plot(kind='box')"
   ]
  },
  {
   "cell_type": "markdown",
   "metadata": {},
   "source": [
    "从上图看出,结果为win的战争发起方力量优势并不比失败的战争配置高."
   ]
  },
  {
   "cell_type": "markdown",
   "metadata": {},
   "source": [
    "胜负情况下的power ratio可以绘制在一起，更有对比性：\n",
    "import seaborn as sns\n",
    "sns.boxplot(x=\"attacker_outcome\",y=\"power_ratio\",data=df_power,palette=\"Set3\")\n",
    "如果你不想显示异常值点，可以加上参数showfliers=False"
   ]
  },
  {
   "cell_type": "code",
   "execution_count": 30,
   "metadata": {},
   "outputs": [
    {
     "data": {
      "text/plain": [
       "<matplotlib.axes._subplots.AxesSubplot at 0x1b1db940>"
      ]
     },
     "execution_count": 30,
     "metadata": {},
     "output_type": "execute_result"
    },
    {
     "data": {
      "image/png": "[encoded data removed]",
      "text/plain": [
       "<Figure size 432x288 with 1 Axes>"
      ]
     },
     "metadata": {
      "needs_background": "light"
     },
     "output_type": "display_data"
    }
   ],
   "source": [
    "import seaborn as sns\n",
    "sns.boxplot(x=\"attacker_outcome\",y=\"power_ratio\",data=df_power,palette=\"Set3\")"
   ]
  },
  {
   "cell_type": "markdown",
   "metadata": {},
   "source": [
    "## 得出结论"
   ]
  },
  {
   "cell_type": "markdown",
   "metadata": {},
   "source": [
    "  根据5个维度分析:Joffrey主动发起战争次数最多,Balon Greyjoy胜利比率最高.The Riverlands发生的战争次数最多,The North,The Reach,The Stormlands,The Westerlands胜利比率最高.pitched battle类型战争最多,胜率最低.ambush和razing类型战争胜率最高.summer发生的战争次数最多,胜率比其他季节低.结果为win的战争发起方力量优势并不比失败的战争配置高.\n",
    "  初步可以得出对于五王之战,对战争结果影响最大的两个因素:统帅和战争类型.另外两个维度季节和地点对于结果有一定影响.军队力量比对战争结果没有明显影响."
   ]
  },
  {
   "cell_type": "markdown",
   "metadata": {},
   "source": [
    "## 反思"
   ]
  },
  {
   "cell_type": "markdown",
   "metadata": {},
   "source": [
    "1. 五王之战少了蓝礼的数据,是这家伙没有发起战争吗?\n",
    "2. 有两项结果未知的战争记录被删除,存在一定的误差.\n"
   ]
  },
  {
   "cell_type": "markdown",
   "metadata": {},
   "source": [
    "在图表颜色选择上建议选择饱和度较低的颜色，这样可以使得图表看起来更柔和\n",
    "颜色选择可以看这：https://blog.csdn.net/wwkaven/article/details/32138987\n",
    "pandas的学习资料看这里：https://www.jianshu.com/p/04d180d90a3f\n",
    "你还可以在这里选择你喜好的图表风格https://tonysyu.github.io/raw_content/matplotlib-style-gallery/gallery.html"
   ]
  }
 ],
 "metadata": {
  "kernelspec": {
   "display_name": "Python 3",
   "language": "python",
   "name": "python3"
  },
  "language_info": {
   "codemirror_mode": {
    "name": "ipython",
    "version": 3
   },
   "file_extension": ".py",
   "mimetype": "text/x-python",
   "name": "python",
   "nbconvert_exporter": "python",
   "pygments_lexer": "ipython3",
   "version": "3.7.0"
  }
 },
 "nbformat": 4,
 "nbformat_minor": 2
}
